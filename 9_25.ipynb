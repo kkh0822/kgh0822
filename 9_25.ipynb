{
  "nbformat": 4,
  "nbformat_minor": 0,
  "metadata": {
    "colab": {
      "provenance": [],
      "toc_visible": true,
      "include_colab_link": true
    },
    "kernelspec": {
      "name": "python3",
      "display_name": "Python 3"
    },
    "accelerator": "GPU"
  },
  "cells": [
    {
      "cell_type": "markdown",
      "metadata": {
        "id": "view-in-github",
        "colab_type": "text"
      },
      "source": [
        "<a href=\"https://colab.research.google.com/github/kkh0822/kgh0822/blob/main/9_25.ipynb\" target=\"_parent\"><img src=\"https://colab.research.google.com/assets/colab-badge.svg\" alt=\"Open In Colab\"/></a>"
      ]
    },
    {
      "cell_type": "code",
      "source": [
        "#from tensorflow.keras.models import Sequential # from 라이브러리 명 import 함수명\n",
        "#from tensorflow.keras.layers import Dense\n",
        "import numpy as np\n",
        "\n",
        "\n",
        "\n",
        "\n",
        "\n",
        "x=np.array([2,4,6,8])\n",
        "y=np.array([81,93,91,97])\n",
        "mx=np.mean(x)\n",
        "my=np.mean(y)\n",
        "divisor= sum([(i-mx)**2 for i in x])\n",
        "\n",
        "def val(x,mx,y,my):\n",
        "  d=0\n",
        "  for i in range(len(x)):\n",
        "    d+= (x[i] - mx)*(y[i] - my)\n",
        "  return d\n",
        "\n",
        "dividend=val(x,mx,y,my)\n",
        "\n",
        "a=dividend/divisor\n",
        "b=my - (mx*a)\n",
        "print(\"x의 평균값:\",mx)\n",
        "print(\"y의 평균값:\",my)\n",
        "\n",
        "print(\"분모:\",divisor)\n",
        "print(\"분자:\",dividend)\n",
        "\n",
        "print(\"기울기:\",a)\n",
        "\n",
        "print(\"y절편:\",b)\n",
        "\n",
        "fake_a=3\n",
        "fake_b=76\n",
        "def predict(x):\n",
        "  return fake_a*(x)+fake_b\n",
        "predict_result=[]\n",
        "\n",
        "\n",
        "\n",
        "for i in range(len(x)):\n",
        "  predict_result.append(predict(x[i]))\n",
        "  print(\"공부한 시간=%.f,실제점수=%.f, 예측점수=%.f\"%(x[i],y[i],predict(x[i])))\n",
        "\n",
        "n=len(x)\n",
        "def mse(y,y_pred):\n",
        "  return sum((y-y_pred)**2)/n\n",
        "print(\"평균제곱오차 : \"+ str(mse(y,predict_result)))\n",
        "\n",
        "\n"
      ],
      "metadata": {
        "id": "ZrNUG8dDPAVl",
        "colab": {
          "base_uri": "https://localhost:8080/"
        },
        "outputId": "c2cf9bce-2a5b-48f3-f872-8e4deeb3a157"
      },
      "execution_count": 1,
      "outputs": [
        {
          "output_type": "stream",
          "name": "stdout",
          "text": [
            "x의 평균값: 5.0\n",
            "y의 평균값: 90.5\n",
            "분모: 20.0\n",
            "분자: 46.0\n",
            "기울기: 2.3\n",
            "y절편: 79.0\n",
            "공부한 시간=2,실제점수=81, 예측점수=82\n",
            "공부한 시간=4,실제점수=93, 예측점수=88\n",
            "공부한 시간=6,실제점수=91, 예측점수=94\n",
            "공부한 시간=8,실제점수=97, 예측점수=100\n",
            "평균제곱오차 : 11.0\n"
          ]
        }
      ]
    },
    {
      "cell_type": "code",
      "source": [
        "x=np.array([2,4,6,8])\n",
        "y=np.array([81,93,91,97])\n",
        "mx=np.mean(x)\n",
        "my=np.mean(y)\n",
        "divisor= sum([(i-mx)**2 for i in x])\n",
        "dividend = 0\n",
        "for i in range(len(x)):\n",
        "  dividend += (x[i] - mx)*(y[i] - my)\n",
        "  a=dividend/divisor\n",
        "  b=my - (mx*a)\n",
        "  print(\"x의 평균값:\".format(mx))"
      ],
      "metadata": {
        "colab": {
          "base_uri": "https://localhost:8080/"
        },
        "id": "zcXQE_QLW4NQ",
        "outputId": "f8c421f7-9384-4184-cf5d-be12e1a8df0e"
      },
      "execution_count": null,
      "outputs": [
        {
          "output_type": "stream",
          "name": "stdout",
          "text": [
            "x의 평균값:\n",
            "x의 평균값:\n",
            "x의 평균값:\n",
            "x의 평균값:\n"
          ]
        }
      ]
    }
  ]
}